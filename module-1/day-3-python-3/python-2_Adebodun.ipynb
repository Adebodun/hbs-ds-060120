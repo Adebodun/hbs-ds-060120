{
 "cells": [
  {
   "cell_type": "markdown",
   "metadata": {},
   "source": [
    "What if we wanted to use continue and break to skip an item if an item costs more than **$10** ?"
   ]
  },
  {
   "cell_type": "code",
   "execution_count": 1,
   "metadata": {},
   "outputs": [
    {
     "data": {
      "text/plain": [
       "{'cheese': 2.79,\n",
       " 'whole milk': 3.42,\n",
       " 'kefir': 4.5,\n",
       " 'tofu four-pack': 12.0,\n",
       " 'kale': 2.75,\n",
       " 'oranges': 3.64,\n",
       " 'ham': 25.0,\n",
       " \"ben & jerry's\": 5.29}"
      ]
     },
     "execution_count": 1,
     "metadata": {},
     "output_type": "execute_result"
    }
   ],
   "source": [
    "items = ['cheese', 'whole milk', 'kefir', 'tofu four-pack', 'kale', 'oranges', 'ham', 'ben & jerry\\'s']\n",
    "costs = [2.79, 3.42, 4.50, 12.00, 2.75, 3.64, 25.00, 5.29]\n",
    "\n",
    "shopping_list = dict(zip(items, costs))\n",
    "shopping_list"
   ]
  },
  {
   "cell_type": "code",
   "execution_count": 3,
   "metadata": {},
   "outputs": [
    {
     "name": "stdout",
     "output_type": "stream",
     "text": [
      "- [ ] cheese: $2.79\n",
      "- [ ] whole milk: $3.42\n",
      "- [ ] kefir: $4.5\n",
      "- [ ] kale: $2.75\n",
      "- [ ] oranges: $3.64\n",
      "- [ ] ben & jerry's: $5.29\n",
      "Total bill: $22.39\n"
     ]
    }
   ],
   "source": [
    "total_bill = 0\n",
    "for item, cost in shopping_list.items():\n",
    "    if cost > 10:\n",
    "        continue\n",
    "    total_bill += cost\n",
    "    print(f'- [ ] {item}: ${cost}')\n",
    "    \n",
    "print(f'Total bill: ${total_bill}')\n",
    "# item and cost can be anything. "
   ]
  },
  {
   "cell_type": "markdown",
   "metadata": {},
   "source": [
    "### Nested Loops"
   ]
  },
  {
   "cell_type": "code",
   "execution_count": 4,
   "metadata": {},
   "outputs": [
    {
     "name": "stdout",
     "output_type": "stream",
     "text": [
      "loop1: 1\n",
      "loop2--- 1\n",
      "loop2--- 2\n",
      "loop2--- 3\n",
      "loop2--- 4\n",
      "loop2--- 5\n",
      "loop1: 2\n",
      "loop2--- 1\n",
      "loop2--- 2\n",
      "loop2--- 3\n",
      "loop2--- 4\n",
      "loop2--- 5\n",
      "loop1: 3\n",
      "loop2--- 1\n",
      "loop2--- 2\n",
      "loop2--- 3\n",
      "loop2--- 4\n",
      "loop2--- 5\n",
      "loop1: 4\n",
      "loop2--- 1\n",
      "loop2--- 2\n",
      "loop2--- 3\n",
      "loop2--- 4\n",
      "loop2--- 5\n",
      "loop1: 5\n",
      "loop2--- 1\n",
      "loop2--- 2\n",
      "loop2--- 3\n",
      "loop2--- 4\n",
      "loop2--- 5\n"
     ]
    }
   ],
   "source": [
    "list2 = [1, 2, 3, 4, 5]\n",
    "\n",
    "for x in list2:\n",
    "    print('loop1:', x)\n",
    "    for y in list2:\n",
    "        print('loop2---', y)\n",
    "# Here, x, y can be anything. use simple annotations "
   ]
  },
  {
   "cell_type": "markdown",
   "metadata": {},
   "source": [
    "What do you expect to see? Why?"
   ]
  },
  {
   "cell_type": "markdown",
   "metadata": {},
   "source": [
    "Here is a more robust shopping list of nested dictionaries:\n",
    "```python\n",
    "shopping_dict = {\n",
    "    'Groceries': {\n",
    "        'ben & jerrys': 5.29, 'cheese': 2.79, 'ham': 25.0, 'kale': 2.75,\n",
    "        'kefir': 4.5,'oranges': 3.64, 'tofu four-pack': 12.0,'whole milk': 3.42\n",
    "    },\n",
    "    'House supplies': {'toilet paper pack': 16.50, 'clorox spray': 6.43, 'kleenex': 2.50,},\n",
    "    'Pet supplies': {'Taste of the Wild': 65.20, 'squeaky toy': 4.50, 'duck feet': 8.45}}\n",
    "```\n",
    "\n",
    "write the nested for loops to print out each grocery list with its total\n",
    "\n",
    "_Hint_\n",
    "\n",
    "- use [this link](https://stackoverflow.com/a/45310389) for help in formatting the total to two decimal places"
   ]
  },
  {
   "cell_type": "code",
   "execution_count": 19,
   "metadata": {},
   "outputs": [],
   "source": [
    "shopping_dict = {\n",
    "    'Groceries': {\n",
    "        'ben & jerrys': 5.29, 'cheese': 2.79, 'ham': 25.0, 'kale': 2.75,\n",
    "        'kefir': 4.5,'oranges': 3.64, 'tofu four-pack': 12.0,'whole milk': 3.42\n",
    "    },\n",
    "    'House supplies': {'toilet paper pack': 16.50, 'clorox spray': 6.43, 'kleenex': 2.50,},\n",
    "    'Pet supplies': {'Taste of the Wild': 65.20, 'squeaky toy': 4.50, 'duck feet': 8.45}}"
   ]
  },
  {
   "cell_type": "code",
   "execution_count": 8,
   "metadata": {},
   "outputs": [
    {
     "name": "stdout",
     "output_type": "stream",
     "text": [
      "Groceries\n",
      "House supplies\n",
      "Pet supplies\n"
     ]
    }
   ],
   "source": [
    "for x in shopping_dict:\n",
    "    print(x)"
   ]
  },
  {
   "cell_type": "code",
   "execution_count": 7,
   "metadata": {},
   "outputs": [
    {
     "name": "stdout",
     "output_type": "stream",
     "text": [
      "('Groceries', {'ben & jerrys': 5.29, 'cheese': 2.79, 'ham': 25.0, 'kale': 2.75, 'kefir': 4.5, 'oranges': 3.64, 'tofu four-pack': 12.0, 'whole milk': 3.42})\n",
      "('House supplies', {'toilet paper pack': 16.5, 'clorox spray': 6.43, 'kleenex': 2.5})\n",
      "('Pet supplies', {'Taste of the Wild': 65.2, 'squeaky toy': 4.5, 'duck feet': 8.45})\n"
     ]
    }
   ],
   "source": [
    "for x in shopping_dict.items():\n",
    "    print(x)"
   ]
  },
  {
   "cell_type": "code",
   "execution_count": 9,
   "metadata": {},
   "outputs": [
    {
     "name": "stdout",
     "output_type": "stream",
     "text": [
      "Groceries\n",
      "House supplies\n",
      "Pet supplies\n"
     ]
    }
   ],
   "source": [
    "for category, cat_list in shopping_dict.items():\n",
    "    print(category)"
   ]
  },
  {
   "cell_type": "code",
   "execution_count": 11,
   "metadata": {},
   "outputs": [
    {
     "name": "stdout",
     "output_type": "stream",
     "text": [
      "Groceries\n",
      "- [] ben & jerrys: $5.29\n",
      "- [] cheese: $2.79\n",
      "- [] ham: $25.0\n",
      "- [] kale: $2.75\n",
      "- [] kefir: $4.5\n",
      "- [] oranges: $3.64\n",
      "- [] tofu four-pack: $12.0\n",
      "- [] whole milk: $3.42\n",
      "House supplies\n",
      "- [] toilet paper pack: $16.5\n",
      "- [] clorox spray: $6.43\n",
      "- [] kleenex: $2.5\n",
      "Pet supplies\n",
      "- [] Taste of the Wild: $65.2\n",
      "- [] squeaky toy: $4.5\n",
      "- [] duck feet: $8.45\n"
     ]
    }
   ],
   "source": [
    "for category, cat_list in shopping_dict.items():\n",
    "    print(category)\n",
    "    for item, cost in cat_list.items():\n",
    "        print(f'- [] {item}: ${cost}')"
   ]
  },
  {
   "cell_type": "code",
   "execution_count": 14,
   "metadata": {},
   "outputs": [
    {
     "name": "stdout",
     "output_type": "stream",
     "text": [
      "---------\n",
      "Groceries\n",
      "---------\n",
      "- [] ben & jerrys: $5.29\n",
      "- [] cheese: $2.79\n",
      "- [] ham: $25.0\n",
      "- [] kale: $2.75\n",
      "- [] kefir: $4.5\n",
      "- [] oranges: $3.64\n",
      "- [] tofu four-pack: $12.0\n",
      "- [] whole milk: $3.42\n",
      "--------------\n",
      "House supplies\n",
      "--------------\n",
      "- [] toilet paper pack: $16.5\n",
      "- [] clorox spray: $6.43\n",
      "- [] kleenex: $2.5\n",
      "------------\n",
      "Pet supplies\n",
      "------------\n",
      "- [] Taste of the Wild: $65.2\n",
      "- [] squeaky toy: $4.5\n",
      "- [] duck feet: $8.45\n"
     ]
    }
   ],
   "source": [
    "for category, cat_list in shopping_dict.items():\n",
    "    print('-' * len(category)) # this prints the '-' sign-on the headers to make it look nicer\n",
    "    print(category)  #this prints each category e.g., Groceries\n",
    "    print('-' * len(category))\n",
    "    for item, cost in cat_list.items(): #this line recognizes each items under each category.\n",
    "        print(f'- [] {item}: ${cost}')"
   ]
  },
  {
   "cell_type": "code",
   "execution_count": 15,
   "metadata": {},
   "outputs": [],
   "source": [
    "#truthy values vs Falsey values\n",
    "#Falsey values:\n",
    "#0\n",
    "#''\n",
    "#[]\n",
    "#{}\n",
    "#(,)\n",
    "#0.0\n",
    "#none\n"
   ]
  },
  {
   "cell_type": "markdown",
   "metadata": {},
   "source": [
    "### Functions\n",
    "\n",
    "**Built-in functions** <br>\n",
    "Many useful functions are already built into Python:<br>\n",
    "\n",
    "`print()`: print the given string or variable's value<br>\n",
    "`type()`: returns the datatype of the argument<br>\n",
    "`len()`: returns the length of an array<br>\n",
    "`sum()`: returns the sum of the array's values<br>\n",
    "`min()`: returns the smallest member of an array <br>\n",
    "`max()`: returns the largest member of an array<br>\n",
    "\n",
    "\n",
    "**Writing your own functions**\n",
    "\n",
    "```python\n",
    "def sayHello():\n",
    "    print(\"Hello!\")\n",
    "```\n"
   ]
  },
  {
   "cell_type": "code",
   "execution_count": 1,
   "metadata": {},
   "outputs": [],
   "source": [
    "def sayHello():\n",
    "    print(\"Hello!\")\n",
    "    # this function has no arguement. This is not the right way"
   ]
  },
  {
   "cell_type": "code",
   "execution_count": 2,
   "metadata": {},
   "outputs": [
    {
     "name": "stdout",
     "output_type": "stream",
     "text": [
      "Hello!\n"
     ]
    }
   ],
   "source": [
    "sayHello()"
   ]
  },
  {
   "cell_type": "markdown",
   "metadata": {},
   "source": [
    "Let's talk about arguments or parameters. Let's say we want to make this function more dynamic and print out whatever we want! How would we do that?\n",
    "```python\n",
    "def shout(phrase):\n",
    "    print(phrase + \"!!!\")\n",
    "shout(\"oh hai\")\n",
    "```"
   ]
  },
  {
   "cell_type": "code",
   "execution_count": 18,
   "metadata": {},
   "outputs": [
    {
     "name": "stdout",
     "output_type": "stream",
     "text": [
      "oh hai!!!\n"
     ]
    }
   ],
   "source": [
    "def shout(phrase):\n",
    "    print(phrase + \"!!!\")\n",
    "shout(\"oh hai\")"
   ]
  },
  {
   "cell_type": "markdown",
   "metadata": {},
   "source": [
    "What if we don't pass in an argument? What happens?\n",
    "Maybe we can establish a default value for the argument in case it isn't passed in.\n",
    "\n",
    "```python\n",
    "def shout(phrase = \"oh hai\"):\n",
    "    print(phrase + \"!!!\")\n",
    "\n",
    "shout()\n",
    "shout(\"bye\")\n",
    "```"
   ]
  },
  {
   "cell_type": "code",
   "execution_count": null,
   "metadata": {},
   "outputs": [],
   "source": []
  },
  {
   "cell_type": "markdown",
   "metadata": {},
   "source": [
    "What if we wanted to run a function, take its output and put it in to another function?\n",
    "\n",
    "```python\n",
    "def add_one(number):\n",
    "    return number + 1\n",
    "\n",
    "def times_five(number):\n",
    "    return number * 5\n",
    "\n",
    "number_plus_one = add_one(1)\n",
    "answer = times_five(number_plus_one)\n",
    "print(answer)\n",
    "```\n",
    "\n",
    "What will the above code return?"
   ]
  },
  {
   "cell_type": "code",
   "execution_count": 3,
   "metadata": {},
   "outputs": [],
   "source": [
    "def add_one(number):\n",
    "    return number + 1\n",
    "\n",
    "def times_five(number):\n",
    "    return number * 5"
   ]
  },
  {
   "cell_type": "code",
   "execution_count": 4,
   "metadata": {},
   "outputs": [
    {
     "name": "stdout",
     "output_type": "stream",
     "text": [
      "10\n"
     ]
    }
   ],
   "source": [
    "number_plus_one = add_one(1)\n",
    "answer = times_five(number_plus_one)\n",
    "print(answer)"
   ]
  },
  {
   "cell_type": "code",
   "execution_count": 6,
   "metadata": {},
   "outputs": [
    {
     "name": "stdout",
     "output_type": "stream",
     "text": [
      "10\n"
     ]
    }
   ],
   "source": [
    "#better way to do above\n",
    "print(times_five(add_one(1)))"
   ]
  },
  {
   "cell_type": "code",
   "execution_count": 11,
   "metadata": {},
   "outputs": [],
   "source": [
    "def make_sentence(word1, word2, word3=None, word4=None):\n",
    "    my_sentence = f'My words are {word1} and {word2}.'\n",
    "    if word3:\n",
    "        my_sentence += f' I also haave {word3}.'\n",
    "    if word4:\n",
    "        my_sentence += f' My last word is {word4}.'\n",
    "        \n",
    "    return my_sentence"
   ]
  },
  {
   "cell_type": "code",
   "execution_count": 16,
   "metadata": {},
   "outputs": [
    {
     "name": "stdout",
     "output_type": "stream",
     "text": [
      "My words are cat and dog. My last word is string.\n"
     ]
    }
   ],
   "source": [
    "print(make_sentence('cat','dog',word4='string'))\n",
    "# cat, dog and string are the arguments for the new function i just created (make_sentence)"
   ]
  },
  {
   "cell_type": "code",
   "execution_count": 17,
   "metadata": {},
   "outputs": [],
   "source": [
    "#you can also define multiple things in the same line"
   ]
  },
  {
   "cell_type": "markdown",
   "metadata": {},
   "source": [
    "Adapt your shopping list nested for-loop to be wrapped in a function you could call on any shopping list of nested dictionaries."
   ]
  },
  {
   "cell_type": "code",
   "execution_count": 20,
   "metadata": {},
   "outputs": [
    {
     "data": {
      "text/plain": [
       "{'Groceries': {'ben & jerrys': 5.29,\n",
       "  'cheese': 2.79,\n",
       "  'ham': 25.0,\n",
       "  'kale': 2.75,\n",
       "  'kefir': 4.5,\n",
       "  'oranges': 3.64,\n",
       "  'tofu four-pack': 12.0,\n",
       "  'whole milk': 3.42},\n",
       " 'House supplies': {'toilet paper pack': 16.5,\n",
       "  'clorox spray': 6.43,\n",
       "  'kleenex': 2.5},\n",
       " 'Pet supplies': {'Taste of the Wild': 65.2,\n",
       "  'squeaky toy': 4.5,\n",
       "  'duck feet': 8.45}}"
      ]
     },
     "execution_count": 20,
     "metadata": {},
     "output_type": "execute_result"
    }
   ],
   "source": [
    "shopping_dict"
   ]
  },
  {
   "cell_type": "code",
   "execution_count": 23,
   "metadata": {},
   "outputs": [],
   "source": [
    "def print_shopping_dicts(s_dict):\n",
    "    for category, cat_list in s_dict.items():\n",
    "        print('-' * len(category)) # this prints the '-' sign-on the headers to make it look nicer\n",
    "        print(category)  #this prints each category e.g., Groceries\n",
    "        print('-' * len(category))\n",
    "        for item, cost in cat_list.items(): #this line recognizes each items under each category.\n",
    "            print(f'- [] {item}: ${cost}')"
   ]
  },
  {
   "cell_type": "code",
   "execution_count": 29,
   "metadata": {},
   "outputs": [
    {
     "ename": "NameError",
     "evalue": "name 's_dict' is not defined",
     "output_type": "error",
     "traceback": [
      "\u001b[1;31m---------------------------------------------------------------------------\u001b[0m",
      "\u001b[1;31mNameError\u001b[0m                                 Traceback (most recent call last)",
      "\u001b[1;32m<ipython-input-29-e548c4515e60>\u001b[0m in \u001b[0;36m<module>\u001b[1;34m\u001b[0m\n\u001b[1;32m----> 1\u001b[1;33m \u001b[0mprint\u001b[0m\u001b[1;33m(\u001b[0m\u001b[0mprint_shopping_dicts\u001b[0m\u001b[1;33m(\u001b[0m\u001b[0ms_dict\u001b[0m\u001b[1;33m)\u001b[0m\u001b[1;33m)\u001b[0m\u001b[1;33m\u001b[0m\u001b[1;33m\u001b[0m\u001b[0m\n\u001b[0m",
      "\u001b[1;31mNameError\u001b[0m: name 's_dict' is not defined"
     ]
    }
   ],
   "source": []
  },
  {
   "cell_type": "markdown",
   "metadata": {},
   "source": [
    "### Mathematical Notation and Measures of Central Tendency \n",
    "\n",
    "median vs mode vs mean<br>\n",
    "What's the difference?\n",
    "\n",
    "\n",
    "```python\n",
    "samp_list = [1,1,1,1,2,2,2,3,3,10,44]\n",
    "```\n",
    "\n",
    "How could you write a for loop to calculate the mean?"
   ]
  },
  {
   "cell_type": "code",
   "execution_count": 30,
   "metadata": {},
   "outputs": [],
   "source": [
    "samp_list = [1, 1, 1, 1, 2, 2, 2, 3, 3, 10, 44]"
   ]
  },
  {
   "cell_type": "code",
   "execution_count": 32,
   "metadata": {},
   "outputs": [
    {
     "data": {
      "text/plain": [
       "6.363636363636363"
      ]
     },
     "execution_count": 32,
     "metadata": {},
     "output_type": "execute_result"
    }
   ],
   "source": [
    "def fast_average(samples):\n",
    "    return sum(samples)/len(samples)\n",
    "fast_average(samp_list)"
   ]
  },
  {
   "cell_type": "markdown",
   "metadata": {},
   "source": [
    "### Integration\n",
    "\n",
    "adapt your function to do the following:\n",
    "- stop the nested loop if a grocery total goes over $30\n",
    "- print out the average cost of per item in your cart"
   ]
  },
  {
   "cell_type": "markdown",
   "metadata": {},
   "source": [
    "## Jupyter Bonus\n",
    "\n",
    "This doesn't really fit in with the rest of Python 102, but Jupyter is incredibly flexible! Here are two examples of embedding beautiful LaTex scripting in a notebook."
   ]
  },
  {
   "cell_type": "code",
   "execution_count": null,
   "metadata": {},
   "outputs": [],
   "source": [
    "%%latex # this will make the entire cell LaTeX syntax\n",
    "$$\\lim\\limits_{x \\to \\infty} \\exp(-x) = 0$$"
   ]
  },
  {
   "cell_type": "code",
   "execution_count": null,
   "metadata": {},
   "outputs": [],
   "source": [
    "from IPython.display import Math\n",
    "# this imports a function called Math() in which you can pass in a raw string of LaTeX\n",
    "Math('F(k) = \\int_{-\\infty}^{\\infty} f(x) e^{2\\pi i k} dx')"
   ]
  },
  {
   "cell_type": "code",
   "execution_count": null,
   "metadata": {},
   "outputs": [],
   "source": []
  }
 ],
 "metadata": {
  "kernelspec": {
   "display_name": "Python 3",
   "language": "python",
   "name": "python3"
  },
  "language_info": {
   "codemirror_mode": {
    "name": "ipython",
    "version": 3
   },
   "file_extension": ".py",
   "mimetype": "text/x-python",
   "name": "python",
   "nbconvert_exporter": "python",
   "pygments_lexer": "ipython3",
   "version": "3.7.6"
  }
 },
 "nbformat": 4,
 "nbformat_minor": 2
}

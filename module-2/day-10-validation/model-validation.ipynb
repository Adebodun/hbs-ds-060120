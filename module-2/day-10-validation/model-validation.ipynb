{
 "cells": [
  {
   "cell_type": "markdown",
   "metadata": {},
   "source": [
    "# Model Validation\n",
    "\n",
    "We've done a lot of work with our linear models this week, but what is this all for... and will it even work?\n",
    "\n",
    "![I Love Lucy shrug gif from Giphy](https://media.giphy.com/media/JRhS6WoswF8FxE0g2R/giphy.gif)"
   ]
  },
  {
   "cell_type": "markdown",
   "metadata": {},
   "source": [
    "To answer those questions, let's think through the point of modeling. The below diagram outlines the CRISP-DM version of the Data Science Process - a nice way to break down data science into its component pieces.\n",
    "\n",
    "Looking at this diagram, what is the end result? What is all of this for?\n",
    "\n",
    "![CRISP-DM Process diagram, from stellar consulting](https://www.stellarconsulting.co.nz/wp-content/uploads/2017/08/CRISP-DM_Process_1000x600.jpg)"
   ]
  },
  {
   "cell_type": "markdown",
   "metadata": {},
   "source": [
    "For most models to be useful, they must be used - on real-world, unseen, potentially real-time data that goes beyond the data we have available when we are training models. But how in the world can we know if a model will work on real-world data?\n",
    "\n",
    "In other words, how do we know if a model is **_generalizable_**?"
   ]
  },
  {
   "cell_type": "markdown",
   "metadata": {},
   "source": [
    "## Learning Objectives\n",
    "\n",
    "- Recognize why validation is important\n",
    "- Describe how a train-test split works\n",
    "- Apply a train-test split to a dataset using sklearn\n",
    "- Explain why k-fold cross validation is often more robust than a single train-test split\n",
    "- Apply k-fold cross validation to a dataset using sklearn"
   ]
  },
  {
   "cell_type": "markdown",
   "metadata": {},
   "source": [
    "## Model Validation\n",
    "\n",
    "Let's say you have a dataframe, with some number of rows of data, and that's all you have available to you. The hope is that you can train a model on this data that can then be used to make predictions about new data that comes in. You want your model to generalize well and work on this incoming data. How can you be sure it does so? \n",
    "\n",
    "### Train-Test Split\n",
    "\n",
    "The idea: don't train your model on ALL of your data, but keep some of it in reserve to test on, in order to simulate how it will work on new/incoming data.\n",
    "\n",
    "#### Example:\n",
    "\n",
    "![original image from https://www.dataquest.io/wp-content/uploads/kaggle_train_test_split.svg plus some added commentary](images/traintestsplit_80-20.png)\n",
    "\n",
    "Note - here, it looks like we're just taking the tail end of the dataset and setting it aside. In practice (most of the time), the split will randomly choose which rows are in the train vs. test sets."
   ]
  },
  {
   "cell_type": "markdown",
   "metadata": {},
   "source": [
    "#### Practice:\n",
    "\n",
    "Documentation: https://scikit-learn.org/stable/modules/generated/sklearn.model_selection.train_test_split.html"
   ]
  },
  {
   "cell_type": "code",
   "execution_count": null,
   "metadata": {},
   "outputs": [],
   "source": []
  }
 ],
 "metadata": {
  "kernelspec": {
   "display_name": "Python [conda env:learn-env] *",
   "language": "python",
   "name": "conda-env-learn-env-py"
  },
  "language_info": {
   "codemirror_mode": {
    "name": "ipython",
    "version": 3
   },
   "file_extension": ".py",
   "mimetype": "text/x-python",
   "name": "python",
   "nbconvert_exporter": "python",
   "pygments_lexer": "ipython3",
   "version": "3.6.9"
  }
 },
 "nbformat": 4,
 "nbformat_minor": 2
}

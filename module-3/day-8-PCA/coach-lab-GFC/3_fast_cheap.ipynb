{
 "cells": [
  {
   "cell_type": "markdown",
   "metadata": {},
   "source": [
    "# Fast and Cheap (BreakoutRoom #3)\n",
    "\n",
    "This team can utilize any model and any features but are limited to **only using ~35% of the training data**"
   ]
  },
  {
   "cell_type": "code",
   "execution_count": 1,
   "metadata": {},
   "outputs": [],
   "source": [
    "# Imports\n",
    "import pandas as pd\n",
    "import numpy as np\n",
    "import matplotlib.pyplot as plt\n",
    "%matplotlib inline\n",
    "\n",
    "from sklearn.model_selection import train_test_split, GridSearchCV\n",
    "from sklearn.metrics import roc_auc_score, plot_roc_curve\n",
    "from sklearn import tree\n",
    "\n",
    "from sklearn.impute import SimpleImputer\n",
    "from sklearn.preprocessing import StandardScaler, OneHotEncoder\n",
    "from sklearn.compose import ColumnTransformer\n",
    "from sklearn.pipeline import make_pipeline, Pipeline\n",
    "from sklearn.linear_model import LogisticRegression\n",
    "\n",
    "from sklearn.metrics import accuracy_score, balanced_accuracy_score\n",
    "from sklearn.metrics import recall_score, precision_score, f1_score"
   ]
  },
  {
   "cell_type": "code",
   "execution_count": 2,
   "metadata": {},
   "outputs": [
    {
     "data": {
      "text/html": [
       "<div>\n",
       "<style scoped>\n",
       "    .dataframe tbody tr th:only-of-type {\n",
       "        vertical-align: middle;\n",
       "    }\n",
       "\n",
       "    .dataframe tbody tr th {\n",
       "        vertical-align: top;\n",
       "    }\n",
       "\n",
       "    .dataframe thead th {\n",
       "        text-align: right;\n",
       "    }\n",
       "</style>\n",
       "<table border=\"1\" class=\"dataframe\">\n",
       "  <thead>\n",
       "    <tr style=\"text-align: right;\">\n",
       "      <th></th>\n",
       "      <th>Pregnancies</th>\n",
       "      <th>Glucose</th>\n",
       "      <th>BloodPressure</th>\n",
       "      <th>SkinThickness</th>\n",
       "      <th>Insulin</th>\n",
       "      <th>BMI</th>\n",
       "      <th>DiabetesPedigreeFunction</th>\n",
       "      <th>Age</th>\n",
       "      <th>Outcome</th>\n",
       "    </tr>\n",
       "  </thead>\n",
       "  <tbody>\n",
       "    <tr>\n",
       "      <th>585</th>\n",
       "      <td>1</td>\n",
       "      <td>93</td>\n",
       "      <td>56</td>\n",
       "      <td>11</td>\n",
       "      <td>0</td>\n",
       "      <td>22.5</td>\n",
       "      <td>0.417</td>\n",
       "      <td>22</td>\n",
       "      <td>0</td>\n",
       "    </tr>\n",
       "    <tr>\n",
       "      <th>717</th>\n",
       "      <td>10</td>\n",
       "      <td>94</td>\n",
       "      <td>72</td>\n",
       "      <td>18</td>\n",
       "      <td>0</td>\n",
       "      <td>23.1</td>\n",
       "      <td>0.595</td>\n",
       "      <td>56</td>\n",
       "      <td>0</td>\n",
       "    </tr>\n",
       "    <tr>\n",
       "      <th>175</th>\n",
       "      <td>8</td>\n",
       "      <td>179</td>\n",
       "      <td>72</td>\n",
       "      <td>42</td>\n",
       "      <td>130</td>\n",
       "      <td>32.7</td>\n",
       "      <td>0.719</td>\n",
       "      <td>36</td>\n",
       "      <td>1</td>\n",
       "    </tr>\n",
       "    <tr>\n",
       "      <th>86</th>\n",
       "      <td>13</td>\n",
       "      <td>106</td>\n",
       "      <td>72</td>\n",
       "      <td>54</td>\n",
       "      <td>0</td>\n",
       "      <td>36.6</td>\n",
       "      <td>0.178</td>\n",
       "      <td>45</td>\n",
       "      <td>0</td>\n",
       "    </tr>\n",
       "    <tr>\n",
       "      <th>119</th>\n",
       "      <td>4</td>\n",
       "      <td>99</td>\n",
       "      <td>76</td>\n",
       "      <td>15</td>\n",
       "      <td>51</td>\n",
       "      <td>23.2</td>\n",
       "      <td>0.223</td>\n",
       "      <td>21</td>\n",
       "      <td>0</td>\n",
       "    </tr>\n",
       "  </tbody>\n",
       "</table>\n",
       "</div>"
      ],
      "text/plain": [
       "     Pregnancies  Glucose  BloodPressure  SkinThickness  Insulin   BMI  \\\n",
       "585            1       93             56             11        0  22.5   \n",
       "717           10       94             72             18        0  23.1   \n",
       "175            8      179             72             42      130  32.7   \n",
       "86            13      106             72             54        0  36.6   \n",
       "119            4       99             76             15       51  23.2   \n",
       "\n",
       "     DiabetesPedigreeFunction  Age  Outcome  \n",
       "585                     0.417   22        0  \n",
       "717                     0.595   56        0  \n",
       "175                     0.719   36        1  \n",
       "86                      0.178   45        0  \n",
       "119                     0.223   21        0  "
      ]
     },
     "execution_count": 2,
     "metadata": {},
     "output_type": "execute_result"
    }
   ],
   "source": [
    "import pandas as pd\n",
    "df = pd.read_csv('Diabetes_Data/diabetes_reduced_train.csv')\n",
    "df.head()"
   ]
  },
  {
   "cell_type": "code",
   "execution_count": 3,
   "metadata": {},
   "outputs": [
    {
     "data": {
      "text/plain": [
       "0    0.632287\n",
       "1    0.367713\n",
       "Name: Outcome, dtype: float64"
      ]
     },
     "execution_count": 3,
     "metadata": {},
     "output_type": "execute_result"
    }
   ],
   "source": [
    "df.Outcome.value_counts(normalize=True)"
   ]
  },
  {
   "cell_type": "code",
   "execution_count": 4,
   "metadata": {},
   "outputs": [],
   "source": [
    "X = df.drop(columns='Outcome')\n",
    "y = df.Outcome"
   ]
  },
  {
   "cell_type": "code",
   "execution_count": 5,
   "metadata": {},
   "outputs": [],
   "source": [
    "X_train, X_test, y_train, y_test = train_test_split(X, y, test_size=.20,\n",
    "                                                   random_state=42,\n",
    "                                                   stratify=y)"
   ]
  },
  {
   "cell_type": "code",
   "execution_count": 6,
   "metadata": {},
   "outputs": [],
   "source": [
    "scaler = StandardScaler()\n",
    "X_train_scaled = scaler.fit_transform(X_train)\n",
    "X_test_scaled = scaler.transform(X_test)\n"
   ]
  },
  {
   "cell_type": "code",
   "execution_count": 7,
   "metadata": {},
   "outputs": [],
   "source": [
    "# Do your magic!\n",
    "lr = LogisticRegression(class_weight = 'Balanced')\n",
    "lr.fit(X_train_scaled, y_train)\n",
    "\n",
    "y_hat_test = lr.predict(X_test_scaled)\n",
    "y_hat_train = lr.predict(X_train_scaled)"
   ]
  },
  {
   "cell_type": "code",
   "execution_count": 8,
   "metadata": {},
   "outputs": [
    {
     "name": "stdout",
     "output_type": "stream",
     "text": [
      "Accuracy:\n",
      "========\n",
      "TRAIN: 0.8202\n",
      "TEST: 0.7778\n",
      "***************\n",
      "Recall:\n",
      "======\n",
      "TRAIN: 0.7077\n",
      "TEST: 0.6471\n",
      "***************\n",
      "Precision:\n",
      "=========\n",
      "TRAIN: 0.7797\n",
      "TEST: 0.7333\n",
      "***************\n",
      "F1-Score:\n",
      "========\n",
      "TRAIN: 0.7419\n",
      "TEST: 0.6875\n",
      "***************\n"
     ]
    }
   ],
   "source": [
    "# Printing the metrics nicely\n",
    "metrics = {\"Accuracy\": accuracy_score,\n",
    "           \"Recall\": recall_score,\n",
    "           \"Precision\": precision_score,\n",
    "           \"F1-Score\": f1_score}\n",
    "\n",
    "for name, metric in metrics.items():\n",
    "    print(f\"{name}:\"); print(\"=\"*len(name))\n",
    "    print(f\"TRAIN: {metric(y_train, y_hat_train):.4f}\")\n",
    "    print(f\"TEST: {metric(y_test, y_hat_test):.4f}\")\n",
    "    print(\"*\" * 15)"
   ]
  },
  {
   "cell_type": "markdown",
   "metadata": {},
   "source": [
    "### Random Forest"
   ]
  },
  {
   "cell_type": "code",
   "execution_count": 9,
   "metadata": {},
   "outputs": [],
   "source": [
    "from sklearn.ensemble import RandomForestClassifier"
   ]
  },
  {
   "cell_type": "code",
   "execution_count": 29,
   "metadata": {},
   "outputs": [],
   "source": [
    "clf = RandomForestClassifier(n_estimators=15,\n",
    "                             criterion='gini',\n",
    "                             max_features='auto',\n",
    "                             oob_score=True)"
   ]
  },
  {
   "cell_type": "code",
   "execution_count": 34,
   "metadata": {},
   "outputs": [
    {
     "name": "stdout",
     "output_type": "stream",
     "text": [
      "0.9775280898876404\n",
      "0.4\n"
     ]
    }
   ],
   "source": [
    "clf.fit(X_train_scaled, y_train)\n",
    "print(clf.score(X_train_scaled, y_train))\n",
    "print(clf.score(X_test, y_test))"
   ]
  },
  {
   "cell_type": "code",
   "execution_count": 35,
   "metadata": {},
   "outputs": [
    {
     "data": {
      "text/plain": [
       "array([[-1.60943791, -0.22314355],\n",
       "       [-1.09861229, -0.40546511],\n",
       "       [-1.60943791, -0.22314355],\n",
       "       [-0.91629073, -0.51082562],\n",
       "       [-0.40546511, -1.09861229],\n",
       "       [-1.32175584, -0.31015493],\n",
       "       [-1.60943791, -0.22314355],\n",
       "       [-1.09861229, -0.40546511],\n",
       "       [-0.76214005, -0.62860866],\n",
       "       [-1.60943791, -0.22314355],\n",
       "       [-1.09861229, -0.40546511],\n",
       "       [-1.09861229, -0.40546511],\n",
       "       [-0.76214005, -0.62860866],\n",
       "       [-1.60943791, -0.22314355],\n",
       "       [-1.60943791, -0.22314355],\n",
       "       [-1.60943791, -0.22314355],\n",
       "       [-1.60943791, -0.22314355],\n",
       "       [-1.09861229, -0.40546511],\n",
       "       [-2.01490302, -0.14310084],\n",
       "       [-2.01490302, -0.14310084],\n",
       "       [-1.60943791, -0.22314355],\n",
       "       [-1.60943791, -0.22314355],\n",
       "       [-1.60943791, -0.22314355],\n",
       "       [-1.09861229, -0.40546511],\n",
       "       [-1.60943791, -0.22314355],\n",
       "       [-2.01490302, -0.14310084],\n",
       "       [-0.76214005, -0.62860866],\n",
       "       [-2.01490302, -0.14310084],\n",
       "       [-1.09861229, -0.40546511],\n",
       "       [-1.09861229, -0.40546511],\n",
       "       [-0.76214005, -0.62860866],\n",
       "       [-0.91629073, -0.51082562],\n",
       "       [-0.91629073, -0.51082562],\n",
       "       [-1.32175584, -0.31015493],\n",
       "       [-1.09861229, -0.40546511],\n",
       "       [-1.60943791, -0.22314355],\n",
       "       [-1.60943791, -0.22314355],\n",
       "       [-2.01490302, -0.14310084],\n",
       "       [-0.76214005, -0.62860866],\n",
       "       [-1.09861229, -0.40546511],\n",
       "       [-1.60943791, -0.22314355],\n",
       "       [-1.09861229, -0.40546511],\n",
       "       [-1.60943791, -0.22314355],\n",
       "       [-1.09861229, -0.40546511],\n",
       "       [-1.32175584, -0.31015493],\n",
       "       [-1.09861229, -0.40546511],\n",
       "       [-2.01490302, -0.14310084],\n",
       "       [-0.91629073, -0.51082562],\n",
       "       [-0.91629073, -0.51082562],\n",
       "       [-1.09861229, -0.40546511],\n",
       "       [-0.91629073, -0.51082562],\n",
       "       [-1.09861229, -0.40546511],\n",
       "       [-1.32175584, -0.31015493],\n",
       "       [-0.62860866, -0.76214005],\n",
       "       [-1.09861229, -0.40546511],\n",
       "       [-2.01490302, -0.14310084],\n",
       "       [-1.60943791, -0.22314355],\n",
       "       [-1.09861229, -0.40546511],\n",
       "       [-1.09861229, -0.40546511],\n",
       "       [-0.91629073, -0.51082562],\n",
       "       [-1.09861229, -0.40546511],\n",
       "       [-1.60943791, -0.22314355],\n",
       "       [-1.09861229, -0.40546511],\n",
       "       [-0.40546511, -1.09861229],\n",
       "       [-0.76214005, -0.62860866],\n",
       "       [-1.32175584, -0.31015493],\n",
       "       [-1.60943791, -0.22314355],\n",
       "       [-1.60943791, -0.22314355],\n",
       "       [-0.91629073, -0.51082562],\n",
       "       [-1.32175584, -0.31015493],\n",
       "       [-2.01490302, -0.14310084],\n",
       "       [-1.09861229, -0.40546511],\n",
       "       [-1.60943791, -0.22314355],\n",
       "       [-1.32175584, -0.31015493],\n",
       "       [-1.09861229, -0.40546511],\n",
       "       [-1.60943791, -0.22314355],\n",
       "       [-0.76214005, -0.62860866],\n",
       "       [-2.01490302, -0.14310084],\n",
       "       [-1.09861229, -0.40546511],\n",
       "       [-1.32175584, -0.31015493],\n",
       "       [-1.60943791, -0.22314355],\n",
       "       [-2.01490302, -0.14310084],\n",
       "       [-1.09861229, -0.40546511],\n",
       "       [-1.60943791, -0.22314355],\n",
       "       [-0.76214005, -0.62860866],\n",
       "       [-2.01490302, -0.14310084],\n",
       "       [-1.60943791, -0.22314355],\n",
       "       [-1.60943791, -0.22314355],\n",
       "       [-0.76214005, -0.62860866],\n",
       "       [-0.76214005, -0.62860866],\n",
       "       [-1.09861229, -0.40546511],\n",
       "       [-2.01490302, -0.14310084],\n",
       "       [-1.60943791, -0.22314355],\n",
       "       [-0.91629073, -0.51082562],\n",
       "       [-2.01490302, -0.14310084],\n",
       "       [-1.60943791, -0.22314355],\n",
       "       [-1.09861229, -0.40546511],\n",
       "       [-1.09861229, -0.40546511],\n",
       "       [-1.60943791, -0.22314355],\n",
       "       [-0.91629073, -0.51082562],\n",
       "       [-0.91629073, -0.51082562],\n",
       "       [-1.32175584, -0.31015493],\n",
       "       [-0.91629073, -0.51082562],\n",
       "       [-1.60943791, -0.22314355],\n",
       "       [-2.01490302, -0.14310084],\n",
       "       [-0.76214005, -0.62860866],\n",
       "       [-1.09861229, -0.40546511],\n",
       "       [-1.09861229, -0.40546511],\n",
       "       [-0.91629073, -0.51082562],\n",
       "       [-1.60943791, -0.22314355],\n",
       "       [-2.01490302, -0.14310084],\n",
       "       [-1.60943791, -0.22314355],\n",
       "       [-0.91629073, -0.51082562],\n",
       "       [-0.76214005, -0.62860866],\n",
       "       [-1.32175584, -0.31015493],\n",
       "       [-1.09861229, -0.40546511],\n",
       "       [-2.01490302, -0.14310084],\n",
       "       [-1.09861229, -0.40546511],\n",
       "       [-0.76214005, -0.62860866],\n",
       "       [-1.60943791, -0.22314355],\n",
       "       [-0.76214005, -0.62860866],\n",
       "       [-1.60943791, -0.22314355],\n",
       "       [-1.60943791, -0.22314355],\n",
       "       [-0.76214005, -0.62860866],\n",
       "       [-1.09861229, -0.40546511],\n",
       "       [-1.60943791, -0.22314355],\n",
       "       [-1.09861229, -0.40546511],\n",
       "       [-2.01490302, -0.14310084],\n",
       "       [-1.60943791, -0.22314355],\n",
       "       [-2.01490302, -0.14310084]])"
      ]
     },
     "execution_count": 35,
     "metadata": {},
     "output_type": "execute_result"
    }
   ],
   "source": [
    "Outcome2 = clf.predict_log_proba(holdout_df)\n",
    "Outcome2"
   ]
  },
  {
   "cell_type": "code",
   "execution_count": 12,
   "metadata": {},
   "outputs": [
    {
     "data": {
      "text/html": [
       "<div>\n",
       "<style scoped>\n",
       "    .dataframe tbody tr th:only-of-type {\n",
       "        vertical-align: middle;\n",
       "    }\n",
       "\n",
       "    .dataframe tbody tr th {\n",
       "        vertical-align: top;\n",
       "    }\n",
       "\n",
       "    .dataframe thead th {\n",
       "        text-align: right;\n",
       "    }\n",
       "</style>\n",
       "<table border=\"1\" class=\"dataframe\">\n",
       "  <thead>\n",
       "    <tr style=\"text-align: right;\">\n",
       "      <th></th>\n",
       "      <th>Pregnancies</th>\n",
       "      <th>Glucose</th>\n",
       "      <th>BloodPressure</th>\n",
       "      <th>SkinThickness</th>\n",
       "      <th>Insulin</th>\n",
       "      <th>BMI</th>\n",
       "      <th>DiabetesPedigreeFunction</th>\n",
       "      <th>Age</th>\n",
       "    </tr>\n",
       "  </thead>\n",
       "  <tbody>\n",
       "    <tr>\n",
       "      <th>540</th>\n",
       "      <td>8</td>\n",
       "      <td>100</td>\n",
       "      <td>74</td>\n",
       "      <td>40</td>\n",
       "      <td>215</td>\n",
       "      <td>39.4</td>\n",
       "      <td>0.661</td>\n",
       "      <td>43</td>\n",
       "    </tr>\n",
       "    <tr>\n",
       "      <th>307</th>\n",
       "      <td>0</td>\n",
       "      <td>137</td>\n",
       "      <td>68</td>\n",
       "      <td>14</td>\n",
       "      <td>148</td>\n",
       "      <td>24.8</td>\n",
       "      <td>0.143</td>\n",
       "      <td>21</td>\n",
       "    </tr>\n",
       "    <tr>\n",
       "      <th>745</th>\n",
       "      <td>12</td>\n",
       "      <td>100</td>\n",
       "      <td>84</td>\n",
       "      <td>33</td>\n",
       "      <td>105</td>\n",
       "      <td>30.0</td>\n",
       "      <td>0.488</td>\n",
       "      <td>46</td>\n",
       "    </tr>\n",
       "    <tr>\n",
       "      <th>691</th>\n",
       "      <td>13</td>\n",
       "      <td>158</td>\n",
       "      <td>114</td>\n",
       "      <td>0</td>\n",
       "      <td>0</td>\n",
       "      <td>42.3</td>\n",
       "      <td>0.257</td>\n",
       "      <td>44</td>\n",
       "    </tr>\n",
       "    <tr>\n",
       "      <th>564</th>\n",
       "      <td>0</td>\n",
       "      <td>91</td>\n",
       "      <td>80</td>\n",
       "      <td>0</td>\n",
       "      <td>0</td>\n",
       "      <td>32.4</td>\n",
       "      <td>0.601</td>\n",
       "      <td>27</td>\n",
       "    </tr>\n",
       "  </tbody>\n",
       "</table>\n",
       "</div>"
      ],
      "text/plain": [
       "     Pregnancies  Glucose  BloodPressure  SkinThickness  Insulin   BMI  \\\n",
       "540            8      100             74             40      215  39.4   \n",
       "307            0      137             68             14      148  24.8   \n",
       "745           12      100             84             33      105  30.0   \n",
       "691           13      158            114              0        0  42.3   \n",
       "564            0       91             80              0        0  32.4   \n",
       "\n",
       "     DiabetesPedigreeFunction  Age  \n",
       "540                     0.661   43  \n",
       "307                     0.143   21  \n",
       "745                     0.488   46  \n",
       "691                     0.257   44  \n",
       "564                     0.601   27  "
      ]
     },
     "execution_count": 12,
     "metadata": {},
     "output_type": "execute_result"
    }
   ],
   "source": [
    "# Then use your model to predict the outcomes of the holdout_df\n",
    "holdout_df = pd.read_csv('Diabetes_data/holdout_df.csv')\n",
    "holdout_df.head()"
   ]
  },
  {
   "cell_type": "code",
   "execution_count": 13,
   "metadata": {},
   "outputs": [],
   "source": [
    "X1 = holdout_df"
   ]
  },
  {
   "cell_type": "code",
   "execution_count": 14,
   "metadata": {},
   "outputs": [],
   "source": [
    "Outcome1 = lr.predict(X1)"
   ]
  },
  {
   "cell_type": "code",
   "execution_count": 15,
   "metadata": {},
   "outputs": [
    {
     "data": {
      "text/plain": [
       "array([1, 1, 1, 1, 1, 1, 1, 1, 1, 1, 1, 1, 1, 1, 1, 1, 1, 1, 1, 1, 1, 1,\n",
       "       1, 1, 1, 1, 1, 1, 1, 1, 1, 1, 1, 1, 1, 1, 1, 1, 1, 1, 1, 1, 1, 1,\n",
       "       1, 1, 1, 1, 1, 1, 1, 1, 1, 1, 1, 1, 1, 1, 1, 1, 1, 1, 1, 1, 1, 1,\n",
       "       1, 1, 1, 1, 1, 1, 1, 1, 1, 1, 1, 1, 1, 1, 1, 1, 1, 1, 1, 1, 1, 1,\n",
       "       1, 1, 1, 1, 1, 1, 1, 1, 1, 1, 1, 1, 1, 1, 1, 1, 1, 1, 1, 1, 1, 1,\n",
       "       1, 1, 1, 1, 1, 1, 1, 1, 1, 1, 1, 1, 1, 1, 1, 1, 1, 1, 1, 1],\n",
       "      dtype=int64)"
      ]
     },
     "execution_count": 15,
     "metadata": {},
     "output_type": "execute_result"
    }
   ],
   "source": [
    "Outcome1"
   ]
  },
  {
   "cell_type": "code",
   "execution_count": 19,
   "metadata": {},
   "outputs": [],
   "source": [
    "OC = pd.DataFrame(Outcome1)"
   ]
  },
  {
   "cell_type": "code",
   "execution_count": 21,
   "metadata": {},
   "outputs": [],
   "source": [
    "# And store those outcomes in the 'Outcome' column of this submission_df \n",
    "submission_df = pd.read_csv('Diabetes_Data/submission_df.csv')"
   ]
  },
  {
   "cell_type": "code",
   "execution_count": 22,
   "metadata": {},
   "outputs": [
    {
     "data": {
      "text/html": [
       "<div>\n",
       "<style scoped>\n",
       "    .dataframe tbody tr th:only-of-type {\n",
       "        vertical-align: middle;\n",
       "    }\n",
       "\n",
       "    .dataframe tbody tr th {\n",
       "        vertical-align: top;\n",
       "    }\n",
       "\n",
       "    .dataframe thead th {\n",
       "        text-align: right;\n",
       "    }\n",
       "</style>\n",
       "<table border=\"1\" class=\"dataframe\">\n",
       "  <thead>\n",
       "    <tr style=\"text-align: right;\">\n",
       "      <th></th>\n",
       "      <th>Unnamed: 0</th>\n",
       "      <th>Outcome</th>\n",
       "    </tr>\n",
       "  </thead>\n",
       "  <tbody>\n",
       "    <tr>\n",
       "      <th>0</th>\n",
       "      <td>540</td>\n",
       "      <td>NaN</td>\n",
       "    </tr>\n",
       "    <tr>\n",
       "      <th>1</th>\n",
       "      <td>307</td>\n",
       "      <td>NaN</td>\n",
       "    </tr>\n",
       "    <tr>\n",
       "      <th>2</th>\n",
       "      <td>745</td>\n",
       "      <td>NaN</td>\n",
       "    </tr>\n",
       "    <tr>\n",
       "      <th>3</th>\n",
       "      <td>691</td>\n",
       "      <td>NaN</td>\n",
       "    </tr>\n",
       "    <tr>\n",
       "      <th>4</th>\n",
       "      <td>564</td>\n",
       "      <td>NaN</td>\n",
       "    </tr>\n",
       "  </tbody>\n",
       "</table>\n",
       "</div>"
      ],
      "text/plain": [
       "   Unnamed: 0  Outcome\n",
       "0         540      NaN\n",
       "1         307      NaN\n",
       "2         745      NaN\n",
       "3         691      NaN\n",
       "4         564      NaN"
      ]
     },
     "execution_count": 22,
     "metadata": {},
     "output_type": "execute_result"
    }
   ],
   "source": [
    "submission_df.head()"
   ]
  },
  {
   "cell_type": "code",
   "execution_count": 23,
   "metadata": {},
   "outputs": [],
   "source": [
    "submission_df.Outcome = Outcome1"
   ]
  },
  {
   "cell_type": "code",
   "execution_count": 24,
   "metadata": {},
   "outputs": [
    {
     "data": {
      "text/html": [
       "<div>\n",
       "<style scoped>\n",
       "    .dataframe tbody tr th:only-of-type {\n",
       "        vertical-align: middle;\n",
       "    }\n",
       "\n",
       "    .dataframe tbody tr th {\n",
       "        vertical-align: top;\n",
       "    }\n",
       "\n",
       "    .dataframe thead th {\n",
       "        text-align: right;\n",
       "    }\n",
       "</style>\n",
       "<table border=\"1\" class=\"dataframe\">\n",
       "  <thead>\n",
       "    <tr style=\"text-align: right;\">\n",
       "      <th></th>\n",
       "      <th>Unnamed: 0</th>\n",
       "      <th>Outcome</th>\n",
       "    </tr>\n",
       "  </thead>\n",
       "  <tbody>\n",
       "    <tr>\n",
       "      <th>0</th>\n",
       "      <td>540</td>\n",
       "      <td>1</td>\n",
       "    </tr>\n",
       "    <tr>\n",
       "      <th>1</th>\n",
       "      <td>307</td>\n",
       "      <td>1</td>\n",
       "    </tr>\n",
       "    <tr>\n",
       "      <th>2</th>\n",
       "      <td>745</td>\n",
       "      <td>1</td>\n",
       "    </tr>\n",
       "    <tr>\n",
       "      <th>3</th>\n",
       "      <td>691</td>\n",
       "      <td>1</td>\n",
       "    </tr>\n",
       "    <tr>\n",
       "      <th>4</th>\n",
       "      <td>564</td>\n",
       "      <td>1</td>\n",
       "    </tr>\n",
       "  </tbody>\n",
       "</table>\n",
       "</div>"
      ],
      "text/plain": [
       "   Unnamed: 0  Outcome\n",
       "0         540        1\n",
       "1         307        1\n",
       "2         745        1\n",
       "3         691        1\n",
       "4         564        1"
      ]
     },
     "execution_count": 24,
     "metadata": {},
     "output_type": "execute_result"
    }
   ],
   "source": [
    "submission_df.head()"
   ]
  },
  {
   "cell_type": "code",
   "execution_count": 39,
   "metadata": {},
   "outputs": [],
   "source": [
    "submission_df.to_pickle('Group_3')"
   ]
  },
  {
   "cell_type": "code",
   "execution_count": null,
   "metadata": {},
   "outputs": [],
   "source": []
  }
 ],
 "metadata": {
  "kernelspec": {
   "display_name": "Python 3",
   "language": "python",
   "name": "python3"
  },
  "language_info": {
   "codemirror_mode": {
    "name": "ipython",
    "version": 3
   },
   "file_extension": ".py",
   "mimetype": "text/x-python",
   "name": "python",
   "nbconvert_exporter": "python",
   "pygments_lexer": "ipython3",
   "version": "3.7.6"
  }
 },
 "nbformat": 4,
 "nbformat_minor": 4
}

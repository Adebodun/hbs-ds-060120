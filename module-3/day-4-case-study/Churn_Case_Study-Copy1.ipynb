{
 "cells": [
  {
   "cell_type": "markdown",
   "metadata": {},
   "source": [
    "# Churn Case Study\n",
    "\n",
    "## Context\n",
    "\"Predict behavior to retain customers. You can analyze all relevant customer data and develop focused customer retention programs.\" [IBM Sample Data Sets]\n",
    "\n",
    "\n",
    "<img src=\"https://images.pexels.com/photos/3078/home-dialer-siemens-telephone.jpg?auto=compress&cs=tinysrgb&dpr=2&h=750&w=1260\" style=\"width:400px\">\n",
    "\n",
    "**Client**: Telco Company in the USA offering triple play (phone, internet and TV).\n",
    "\n",
    "New competitor entered offering triple play, resulting in increased churn.\n",
    "\n",
    "Want better way to spot potential churning customers and suggested actions what to do."
   ]
  },
  {
   "cell_type": "markdown",
   "metadata": {},
   "source": [
    "## **Assignment**\n",
    "\n",
    "- Define the business problem\n",
    "- Determine which evaluation metric you find appropriate:\n",
    "   - accuracy\n",
    "   - precision\n",
    "   - recall\n",
    "   - f1 score\n",
    "- Determine which type of slice/segment/type of churn you are interested\n",
    "- Run \"data prep code\"\n",
    "- Use logistic regression to create 2-3 model specifications\n",
    "  - model 1 (vanilla model): uses cleaned data as is, find best cutoff using chosen metric\n",
    "  - model 2: create at least **2 new features** and add them to the model\n",
    "  - model 3 (if time, a 'reach' model): increase the LASSO penalty to decrease the feature set\n",
    "- Pick the \"best\" model and find the \"best\" threshold\n",
    "- Use \"best\" model to identify the drivers of churn in your segment analysis and make recommendations for the company\n",
    "- Each group will have 5 minutes to present their recommendations to the rest of the class. Make sure to share:\n",
    "   - segment you chose\n",
    "   - evaluation metric you chose based on the business problem\n",
    "   - evaluation metric of \"best\" model's threshold & threshold\n",
    "   - what drives churn and what are your recommendations\n",
    "   - **if you had more time** what would you work on?"
   ]
  },
  {
   "cell_type": "markdown",
   "metadata": {},
   "source": [
    "## Data\n",
    "\n",
    "<img src=\"https://images.pexels.com/photos/53621/calculator-calculation-insurance-finance-53621.jpeg?auto=compress&cs=tinysrgb&dpr=2&h=750&w=1260\" style = \"width:400px\" >\n",
    "Each row represents a customer, each column contains customer’s attributes described on the column Metadata.\n",
    "\n",
    "The data set includes information about:\n",
    "\n",
    "- Customers who left within the last month – the column is called Churn\n",
    "- Services that each customer has signed up for – phone, multiple lines, internet, online security, online backup, device protection, tech support, and streaming TV and movies\n",
    "- Customer account information \n",
    "     - how long they’ve been a customer (tenure is in months)\n",
    "     - contract, payment method, paperless billing, monthly charges, and total charges\n",
    "     - all \"totals\" are over the length of the contract\n",
    "- Demographic info about customers – gender, age range, and if they have partners and dependents\n",
    "- Usage\n",
    "    - information about their usage patterns\n",
    "    - again, usage totals are over length of contract"
   ]
  },
  {
   "cell_type": "markdown",
   "metadata": {},
   "source": [
    "## Concept: Churn\n",
    "\n",
    "#### Type of churn:\n",
    "\n",
    "**Voluntary** – they left after contract was up\n",
    "\n",
    "**Involuntary** – we fired them\n",
    "\n",
    "**Early churn** – left early, broke contract\n",
    "\n",
    "### Churn is a survival problem:\n",
    "- Predicting who will churn next month is really hard\n",
    "- Predicting who may churn over next 3 months is easier\n",
    "\n",
    "<img src = \"./img/funnel.png\" style=\"width:800px\">\n",
    "\n",
    "There are many reasons to churn &#8594; **feature engineering is king**"
   ]
  },
  {
   "cell_type": "markdown",
   "metadata": {},
   "source": [
    "### Solutions need to be tied to root problems\n",
    "\n",
    "<img src = \"./img/solution.png\" style=\"width:800px\">"
   ]
  },
  {
   "cell_type": "markdown",
   "metadata": {},
   "source": [
    "### Different solutions have different time frames\n",
    "\n",
    "<img src = \"./img/time.png\" style=\"width:800px\">"
   ]
  },
  {
   "cell_type": "markdown",
   "metadata": {},
   "source": [
    "## Remember:\n",
    "\n",
    "#### You will not be paid to create intricate models\n",
    "### You will be paid to **Solve Problems**"
   ]
  },
  {
   "cell_type": "markdown",
   "metadata": {},
   "source": [
    "# Get Started!\n",
    "\n",
    "## Part 1: Business problem\n",
    "\n",
    "#### End Users:\n",
    "- Telco Mgt team\n",
    "\n",
    "\n",
    "#### True business problem:\n",
    "- Create a model that can, if given data from telco about the information of a customer, predict weather the customer will churn\n",
    "\n",
    "\n",
    "#### Context:\n",
    "\n",
    "Negative will not churn\n",
    "Positive will churn\n",
    "\n",
    "- **False negative** Predict a customer will not churcn but actually will churn\n",
    "    - **Outcome**: Lose customer --> \n",
    "- **False positive**\n",
    "    - **Outcome**: "
   ]
  },
  {
   "cell_type": "markdown",
   "metadata": {},
   "source": [
    "## Part 2: Evaluation Metric\n",
    "Which metric (of the ones we've explore so far) would make sense to primarily use as we evaluate our models?\n",
    "\n",
    "- Accuracy\n",
    "- Precision\n",
    "- **Recall**\n",
    "- F1-Score"
   ]
  },
  {
   "cell_type": "markdown",
   "metadata": {},
   "source": [
    "## Part 3: Segment choice\n",
    "\n",
    "What type slice/segment/type of churn you are interested in?"
   ]
  },
  {
   "cell_type": "markdown",
   "metadata": {},
   "source": [
    "## Part 4: Data Prep Code"
   ]
  },
  {
   "cell_type": "code",
   "execution_count": 20,
   "metadata": {},
   "outputs": [
    {
     "name": "stderr",
     "output_type": "stream",
     "text": [
      "C:\\Users\\Adebodun Aina\\anaconda3\\lib\\site-packages\\pandas\\core\\frame.py:3997: SettingWithCopyWarning: \n",
      "A value is trying to be set on a copy of a slice from a DataFrame\n",
      "\n",
      "See the caveats in the documentation: https://pandas.pydata.org/pandas-docs/stable/user_guide/indexing.html#returning-a-view-versus-a-copy\n",
      "  errors=errors,\n"
     ]
    },
    {
     "data": {
      "text/plain": [
       "(2229, 42)"
      ]
     },
     "execution_count": 20,
     "metadata": {},
     "output_type": "execute_result"
    }
   ],
   "source": [
    "# Import pacakges\n",
    "import numpy as np\n",
    "import pandas as pd\n",
    "from sklearn.preprocessing import OneHotEncoder\n",
    "from sklearn.model_selection import train_test_split\n",
    "\n",
    "# Load dataset\n",
    "url_link = 'https://docs.google.com/spreadsheets/d/1TAWfdKnWYiCzKUeDyGL6NzIOv7AxFt_Sfzzax464_FQ/export?format=csv&gid=882919979'\n",
    "telco = pd.read_csv(url_link)\n",
    "\n",
    "# Drop nas\n",
    "telco.dropna(inplace=True)\n",
    "\n",
    "# Train-test-split\n",
    "X_train, X_test, y_train, y_test = train_test_split(telco.drop(columns=['customerID','Churn']), np.where(telco.Churn ==\"Yes\", 1, 0), test_size=0.33, random_state=42)\n",
    "\n",
    "# Separate out numeric from categorical variables\n",
    "cat_var = telco.select_dtypes(include='object')\n",
    "cat_var.drop(columns=['customerID','Churn'], inplace = True)\n",
    "\n",
    "num_var = telco.select_dtypes(exclude = 'object') \n",
    "\n",
    "# Encode categorical variables\n",
    "ohc = OneHotEncoder(drop='first')\n",
    "encoded_cat = ohc.fit_transform(X_train[cat_var.columns.tolist()]).toarray()\n",
    "\n",
    "# Add feature names to encoded vars\n",
    "encoded=pd.DataFrame(encoded_cat, columns=ohc.get_feature_names(cat_var.columns.tolist()))\n",
    "encoded.reset_index(inplace=True, drop=True)\n",
    "X_train.reset_index(inplace=True, drop=True)\n",
    "\n",
    "# Reassemble entire training dataset\n",
    "clean_X_train = pd.concat([X_train[num_var.columns.tolist()] , encoded], axis=1,  sort=False)\n",
    "clean_X_train.shape"
   ]
  },
  {
   "cell_type": "code",
   "execution_count": 21,
   "metadata": {},
   "outputs": [],
   "source": [
    "encoded_cat = ohc.transform(X_test[cat_var.columns.tolist()]).toarray()\n",
    "# Add feature names to encoded vars\n",
    "encoded=pd.DataFrame(encoded_cat, columns=ohc.get_feature_names(cat_var.columns.tolist()))\n",
    "encoded.reset_index(inplace=True, drop=True)\n",
    "X_test.reset_index(inplace=True, drop=True)\n",
    "# Reassemble entire training dataset\n",
    "clean_X_test = pd.concat([X_test[num_var.columns.tolist()] , encoded], axis=1,  sort=False)"
   ]
  },
  {
   "cell_type": "code",
   "execution_count": 22,
   "metadata": {},
   "outputs": [],
   "source": [
    "# clean_X_train.columns"
   ]
  },
  {
   "cell_type": "code",
   "execution_count": 23,
   "metadata": {},
   "outputs": [
    {
     "data": {
      "text/html": [
       "<div>\n",
       "<style scoped>\n",
       "    .dataframe tbody tr th:only-of-type {\n",
       "        vertical-align: middle;\n",
       "    }\n",
       "\n",
       "    .dataframe tbody tr th {\n",
       "        vertical-align: top;\n",
       "    }\n",
       "\n",
       "    .dataframe thead th {\n",
       "        text-align: right;\n",
       "    }\n",
       "</style>\n",
       "<table border=\"1\" class=\"dataframe\">\n",
       "  <thead>\n",
       "    <tr style=\"text-align: right;\">\n",
       "      <th></th>\n",
       "      <th>SeniorCitizen</th>\n",
       "      <th>tenure</th>\n",
       "      <th>NumbervMailMessages</th>\n",
       "      <th>TotalDayMinutes</th>\n",
       "      <th>TotalDayCalls</th>\n",
       "      <th>TotalEveMinutes</th>\n",
       "      <th>TotalEveCalls</th>\n",
       "      <th>TotalNightMinutes</th>\n",
       "      <th>TotalNightCalls</th>\n",
       "      <th>TotalIntlMinutes</th>\n",
       "      <th>...</th>\n",
       "      <th>StreamingMovies_No internet service</th>\n",
       "      <th>StreamingMovies_Yes</th>\n",
       "      <th>Contract_One year</th>\n",
       "      <th>Contract_Two year</th>\n",
       "      <th>PaperlessBilling_Yes</th>\n",
       "      <th>PaymentMethod_Credit card (automatic)</th>\n",
       "      <th>PaymentMethod_Electronic check</th>\n",
       "      <th>PaymentMethod_Mailed check</th>\n",
       "      <th>InternationalPlan_Yes</th>\n",
       "      <th>VoiceMailPlan_Yes</th>\n",
       "    </tr>\n",
       "  </thead>\n",
       "  <tbody>\n",
       "    <tr>\n",
       "      <th>0</th>\n",
       "      <td>0</td>\n",
       "      <td>1</td>\n",
       "      <td>0</td>\n",
       "      <td>97.2</td>\n",
       "      <td>88</td>\n",
       "      <td>155.6</td>\n",
       "      <td>85</td>\n",
       "      <td>261.6</td>\n",
       "      <td>105</td>\n",
       "      <td>12.4</td>\n",
       "      <td>...</td>\n",
       "      <td>1.0</td>\n",
       "      <td>0.0</td>\n",
       "      <td>0.0</td>\n",
       "      <td>0.0</td>\n",
       "      <td>0.0</td>\n",
       "      <td>0.0</td>\n",
       "      <td>0.0</td>\n",
       "      <td>1.0</td>\n",
       "      <td>0.0</td>\n",
       "      <td>0.0</td>\n",
       "    </tr>\n",
       "    <tr>\n",
       "      <th>1</th>\n",
       "      <td>0</td>\n",
       "      <td>58</td>\n",
       "      <td>34</td>\n",
       "      <td>138.8</td>\n",
       "      <td>80</td>\n",
       "      <td>142.0</td>\n",
       "      <td>108</td>\n",
       "      <td>183.8</td>\n",
       "      <td>77</td>\n",
       "      <td>11.8</td>\n",
       "      <td>...</td>\n",
       "      <td>0.0</td>\n",
       "      <td>1.0</td>\n",
       "      <td>0.0</td>\n",
       "      <td>0.0</td>\n",
       "      <td>1.0</td>\n",
       "      <td>0.0</td>\n",
       "      <td>1.0</td>\n",
       "      <td>0.0</td>\n",
       "      <td>0.0</td>\n",
       "      <td>1.0</td>\n",
       "    </tr>\n",
       "    <tr>\n",
       "      <th>2</th>\n",
       "      <td>0</td>\n",
       "      <td>1</td>\n",
       "      <td>0</td>\n",
       "      <td>179.7</td>\n",
       "      <td>128</td>\n",
       "      <td>299.8</td>\n",
       "      <td>92</td>\n",
       "      <td>185.3</td>\n",
       "      <td>120</td>\n",
       "      <td>7.6</td>\n",
       "      <td>...</td>\n",
       "      <td>1.0</td>\n",
       "      <td>0.0</td>\n",
       "      <td>1.0</td>\n",
       "      <td>0.0</td>\n",
       "      <td>0.0</td>\n",
       "      <td>1.0</td>\n",
       "      <td>0.0</td>\n",
       "      <td>0.0</td>\n",
       "      <td>0.0</td>\n",
       "      <td>0.0</td>\n",
       "    </tr>\n",
       "    <tr>\n",
       "      <th>3</th>\n",
       "      <td>0</td>\n",
       "      <td>4</td>\n",
       "      <td>0</td>\n",
       "      <td>298.4</td>\n",
       "      <td>78</td>\n",
       "      <td>270.5</td>\n",
       "      <td>142</td>\n",
       "      <td>107.3</td>\n",
       "      <td>84</td>\n",
       "      <td>12.2</td>\n",
       "      <td>...</td>\n",
       "      <td>0.0</td>\n",
       "      <td>0.0</td>\n",
       "      <td>0.0</td>\n",
       "      <td>0.0</td>\n",
       "      <td>0.0</td>\n",
       "      <td>0.0</td>\n",
       "      <td>1.0</td>\n",
       "      <td>0.0</td>\n",
       "      <td>1.0</td>\n",
       "      <td>0.0</td>\n",
       "    </tr>\n",
       "    <tr>\n",
       "      <th>4</th>\n",
       "      <td>0</td>\n",
       "      <td>1</td>\n",
       "      <td>0</td>\n",
       "      <td>189.3</td>\n",
       "      <td>77</td>\n",
       "      <td>155.9</td>\n",
       "      <td>128</td>\n",
       "      <td>186.0</td>\n",
       "      <td>83</td>\n",
       "      <td>7.4</td>\n",
       "      <td>...</td>\n",
       "      <td>1.0</td>\n",
       "      <td>0.0</td>\n",
       "      <td>0.0</td>\n",
       "      <td>0.0</td>\n",
       "      <td>0.0</td>\n",
       "      <td>0.0</td>\n",
       "      <td>0.0</td>\n",
       "      <td>1.0</td>\n",
       "      <td>0.0</td>\n",
       "      <td>0.0</td>\n",
       "    </tr>\n",
       "  </tbody>\n",
       "</table>\n",
       "<p>5 rows × 42 columns</p>\n",
       "</div>"
      ],
      "text/plain": [
       "   SeniorCitizen  tenure  NumbervMailMessages  TotalDayMinutes  TotalDayCalls  \\\n",
       "0              0       1                    0             97.2             88   \n",
       "1              0      58                   34            138.8             80   \n",
       "2              0       1                    0            179.7            128   \n",
       "3              0       4                    0            298.4             78   \n",
       "4              0       1                    0            189.3             77   \n",
       "\n",
       "   TotalEveMinutes  TotalEveCalls  TotalNightMinutes  TotalNightCalls  \\\n",
       "0            155.6             85              261.6              105   \n",
       "1            142.0            108              183.8               77   \n",
       "2            299.8             92              185.3              120   \n",
       "3            270.5            142              107.3               84   \n",
       "4            155.9            128              186.0               83   \n",
       "\n",
       "   TotalIntlMinutes  ...  StreamingMovies_No internet service  \\\n",
       "0              12.4  ...                                  1.0   \n",
       "1              11.8  ...                                  0.0   \n",
       "2               7.6  ...                                  1.0   \n",
       "3              12.2  ...                                  0.0   \n",
       "4               7.4  ...                                  1.0   \n",
       "\n",
       "   StreamingMovies_Yes  Contract_One year  Contract_Two year  \\\n",
       "0                  0.0                0.0                0.0   \n",
       "1                  1.0                0.0                0.0   \n",
       "2                  0.0                1.0                0.0   \n",
       "3                  0.0                0.0                0.0   \n",
       "4                  0.0                0.0                0.0   \n",
       "\n",
       "   PaperlessBilling_Yes  PaymentMethod_Credit card (automatic)  \\\n",
       "0                   0.0                                    0.0   \n",
       "1                   1.0                                    0.0   \n",
       "2                   0.0                                    1.0   \n",
       "3                   0.0                                    0.0   \n",
       "4                   0.0                                    0.0   \n",
       "\n",
       "   PaymentMethod_Electronic check  PaymentMethod_Mailed check  \\\n",
       "0                             0.0                         1.0   \n",
       "1                             1.0                         0.0   \n",
       "2                             0.0                         0.0   \n",
       "3                             1.0                         0.0   \n",
       "4                             0.0                         1.0   \n",
       "\n",
       "   InternationalPlan_Yes  VoiceMailPlan_Yes  \n",
       "0                    0.0                0.0  \n",
       "1                    0.0                1.0  \n",
       "2                    0.0                0.0  \n",
       "3                    1.0                0.0  \n",
       "4                    0.0                0.0  \n",
       "\n",
       "[5 rows x 42 columns]"
      ]
     },
     "execution_count": 23,
     "metadata": {},
     "output_type": "execute_result"
    }
   ],
   "source": [
    "clean_X_train.head()"
   ]
  },
  {
   "cell_type": "code",
   "execution_count": 41,
   "metadata": {},
   "outputs": [],
   "source": [
    "# telco['Contract'].value_counts()"
   ]
  },
  {
   "cell_type": "code",
   "execution_count": 42,
   "metadata": {},
   "outputs": [],
   "source": [
    "features = []\n",
    "# clean_X_train['tenure']/12"
   ]
  },
  {
   "cell_type": "code",
   "execution_count": null,
   "metadata": {},
   "outputs": [],
   "source": [
    "# if clean_X_train['Contract_One year'] > clean_X_train['Contract_Two year']\n",
    "#     clean_X_train['tenure']/12"
   ]
  },
  {
   "cell_type": "code",
   "execution_count": 24,
   "metadata": {},
   "outputs": [],
   "source": [
    "# df_train_cleaned = clean_X_train\n",
    "# df_train_cleaned['churn'] = y_train\n",
    "# df_train_cleaned.head()"
   ]
  },
  {
   "cell_type": "code",
   "execution_count": 25,
   "metadata": {},
   "outputs": [],
   "source": [
    "# df_train_cleaned.corr().abs()"
   ]
  },
  {
   "cell_type": "markdown",
   "metadata": {},
   "source": [
    "## Part 5: Create models"
   ]
  },
  {
   "cell_type": "code",
   "execution_count": null,
   "metadata": {},
   "outputs": [],
   "source": [
    "vanilla_mod = "
   ]
  },
  {
   "cell_type": "code",
   "execution_count": null,
   "metadata": {},
   "outputs": [],
   "source": [
    "data_ols = pd.concat([mpg, scaled_acc, scaled_weight, orig_dummies], axis=1)\n",
    "data_ols.head(3)"
   ]
  },
  {
   "cell_type": "code",
   "execution_count": null,
   "metadata": {},
   "outputs": [],
   "source": [
    "# Import statsmodels.api as sm\n",
    "from statsmodels.formula.api import ols\n"
   ]
  },
  {
   "cell_type": "code",
   "execution_count": null,
   "metadata": {},
   "outputs": [],
   "source": [
    "outcome = 'mpg'\n",
    "predictors = data_ols.drop('mpg', axis=1)\n",
    "pred_sum = '+'.join(predictors.columns)\n",
    "formula = outcome + '~' + pred_sum"
   ]
  },
  {
   "cell_type": "markdown",
   "metadata": {},
   "source": [
    "## Part 6: Pick model & find best threshold"
   ]
  },
  {
   "cell_type": "code",
   "execution_count": null,
   "metadata": {},
   "outputs": [],
   "source": []
  },
  {
   "cell_type": "markdown",
   "metadata": {},
   "source": [
    "## Part 7: What drives churn?"
   ]
  },
  {
   "cell_type": "code",
   "execution_count": null,
   "metadata": {},
   "outputs": [],
   "source": []
  },
  {
   "cell_type": "markdown",
   "metadata": {},
   "source": [
    "## Part 8: What are your recommendations?"
   ]
  },
  {
   "cell_type": "code",
   "execution_count": null,
   "metadata": {},
   "outputs": [],
   "source": []
  },
  {
   "cell_type": "code",
   "execution_count": null,
   "metadata": {},
   "outputs": [],
   "source": []
  }
 ],
 "metadata": {
  "kernelspec": {
   "display_name": "Python 3",
   "language": "python",
   "name": "python3"
  },
  "language_info": {
   "codemirror_mode": {
    "name": "ipython",
    "version": 3
   },
   "file_extension": ".py",
   "mimetype": "text/x-python",
   "name": "python",
   "nbconvert_exporter": "python",
   "pygments_lexer": "ipython3",
   "version": "3.7.6"
  }
 },
 "nbformat": 4,
 "nbformat_minor": 4
}
